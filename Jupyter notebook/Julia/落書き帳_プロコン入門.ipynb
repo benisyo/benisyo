{
 "cells": [
  {
   "cell_type": "code",
   "execution_count": 5,
   "metadata": {},
   "outputs": [
    {
     "data": {
      "text/plain": [
       "Float64"
      ]
     },
     "execution_count": 5,
     "metadata": {},
     "output_type": "execute_result"
    }
   ],
   "source": [
    "typeof(parse(\"123.323\"))"
   ]
  },
  {
   "cell_type": "code",
   "execution_count": 6,
   "metadata": {},
   "outputs": [
    {
     "ename": "LoadError",
     "evalue": "\u001b[91mArgumentError: extra characters after whitespace in \"32 41\"\u001b[39m",
     "output_type": "error",
     "traceback": [
      "\u001b[91mArgumentError: extra characters after whitespace in \"32 41\"\u001b[39m",
      "",
      "Stacktrace:",
      " [1] \u001b[1mtryparse_internal\u001b[22m\u001b[22m\u001b[1m(\u001b[22m\u001b[22m::Type{Int64}, ::String, ::Int64, ::Int64, ::Int64, ::Bool\u001b[1m)\u001b[22m\u001b[22m at \u001b[1m./parse.jl:124\u001b[22m\u001b[22m",
      " [2] \u001b[1mparse\u001b[22m\u001b[22m\u001b[1m(\u001b[22m\u001b[22m::Type{Int64}, ::String\u001b[1m)\u001b[22m\u001b[22m at \u001b[1m./parse.jl:184\u001b[22m\u001b[22m",
      " [3] \u001b[1minclude_string\u001b[22m\u001b[22m\u001b[1m(\u001b[22m\u001b[22m::String, ::String\u001b[1m)\u001b[22m\u001b[22m at \u001b[1m./loading.jl:522\u001b[22m\u001b[22m"
     ]
    }
   ],
   "source": [
    "typeof(parse(Int,\"32 41\"))"
   ]
  },
  {
   "cell_type": "code",
   "execution_count": 10,
   "metadata": {},
   "outputs": [
    {
     "data": {
      "text/plain": [
       "3-element Array{SubString{String},1}:\n",
       " \"12\" \n",
       " \"345\"\n",
       " \"678\""
      ]
     },
     "execution_count": 10,
     "metadata": {},
     "output_type": "execute_result"
    }
   ],
   "source": [
    "split(\"12 345 678\")"
   ]
  },
  {
   "cell_type": "code",
   "execution_count": 17,
   "metadata": {},
   "outputs": [
    {
     "name": "stdout",
     "output_type": "stream",
     "text": [
      "6 fffffff"
     ]
    },
    {
     "data": {
      "text/plain": [
       "Tuple{Int64,Int64}"
      ]
     },
     "execution_count": 17,
     "metadata": {},
     "output_type": "execute_result"
    }
   ],
   "source": [
    "function main()\n",
    "    \n",
    "    # 整数の入力\n",
    "    a = parse(Int, \"1\")\n",
    "    # スペース区切りの整数の入力\n",
    "    (b, c) = map(x -> parse(Int, x), split(\"2 3\"))\n",
    "    # 文字列の入力\n",
    "    s = \"fffffff\"\n",
    "    # 出力\n",
    "    print(\"$(a + b + c) $s\")\n",
    "    typeof((b, c))\n",
    "end\n",
    "\n",
    "main()"
   ]
  },
  {
   "cell_type": "code",
   "execution_count": 30,
   "metadata": {},
   "outputs": [
    {
     "name": "stdout",
     "output_type": "stream",
     "text": [
      "STDIN> 10000 10000\n",
      "Even\n",
      "  2.485515 seconds (43.13 k allocations: 2.289 MiB)\n"
     ]
    }
   ],
   "source": [
    "function main()\n",
    "    (a,b) = map(x -> parse(Int, x),split(readline()))\n",
    "    if (a%2 == 0) || (b%2 ==0)\n",
    "        println(\"Even\")\n",
    "    else\n",
    "        println(\"Odd\")    \n",
    "    end\n",
    "end\n",
    "@time main()"
   ]
  },
  {
   "cell_type": "code",
   "execution_count": 29,
   "metadata": {},
   "outputs": [
    {
     "name": "stdout",
     "output_type": "stream",
     "text": [
      "STDIN> 10000 10000\n",
      "Even\n",
      "  1.631735 seconds (43.08 k allocations: 2.290 MiB)\n"
     ]
    }
   ],
   "source": [
    "function main()\n",
    "    (a, b) = map(x -> parse(Int, x), split(readline()))\n",
    "    c = a * b\n",
    "    if c % 2 == 0\n",
    "        println(\"Even\")\n",
    "    else\n",
    "        println(\"Odd\")\n",
    "    end\n",
    "end\n",
    "\n",
    "@time main()"
   ]
  },
  {
   "cell_type": "code",
   "execution_count": 32,
   "metadata": {},
   "outputs": [
    {
     "name": "stdout",
     "output_type": "stream",
     "text": [
      "STDIN> 12 34\n"
     ]
    },
    {
     "data": {
      "text/plain": [
       "2-element Array{Int64,1}:\n",
       " 12\n",
       " 34"
      ]
     },
     "execution_count": 32,
     "metadata": {},
     "output_type": "execute_result"
    }
   ],
   "source": [
    "c = map(x -> parse(Int, x),split(readline()))"
   ]
  },
  {
   "cell_type": "code",
   "execution_count": 84,
   "metadata": {},
   "outputs": [
    {
     "name": "stdout",
     "output_type": "stream",
     "text": [
      "STDIN> 2345 99\n",
      "Odd\n"
     ]
    }
   ],
   "source": [
    "function main()\n",
    "    if any(iseven.(parse.(Int,split(readline()))))\n",
    "        println(\"Even\")\n",
    "    else\n",
    "        println(\"Odd\")\n",
    "    end\n",
    "end\n",
    "main()"
   ]
  },
  {
   "cell_type": "code",
   "execution_count": 36,
   "metadata": {},
   "outputs": [
    {
     "name": "stdout",
     "output_type": "stream",
     "text": [
      "STDIN> 10000 100000\n"
     ]
    },
    {
     "data": {
      "text/plain": [
       "2-element Array{Int64,1}:\n",
       "  10000\n",
       " 100000"
      ]
     },
     "execution_count": 36,
     "metadata": {},
     "output_type": "execute_result"
    }
   ],
   "source": [
    "parse.(split(readline()))"
   ]
  },
  {
   "cell_type": "code",
   "execution_count": 42,
   "metadata": {},
   "outputs": [
    {
     "name": "stdout",
     "output_type": "stream",
     "text": [
      "STDIN> 111\n",
      "3\n"
     ]
    }
   ],
   "source": [
    "function main()\n",
    "    a = count(c->c=='1', readline())\n",
    "    println(\"$a\")\n",
    "end\n",
    "main()"
   ]
  },
  {
   "cell_type": "code",
   "execution_count": 85,
   "metadata": {},
   "outputs": [
    {
     "name": "stdout",
     "output_type": "stream",
     "text": [
      "STDIN> 16 16 16\n",
      "STDIN> 16 16\n",
      "4\n"
     ]
    }
   ],
   "source": [
    "function main()\n",
    "    N = readline()\n",
    "    count = 0\n",
    "    a = parse.(split(readline()))\n",
    "    while all(iseven.(a))\n",
    "        count += 1\n",
    "        a=　div.(a,2)            \n",
    "    end\n",
    "    println(\"$count\")\n",
    "end\n",
    "main()"
   ]
  },
  {
   "cell_type": "code",
   "execution_count": 13,
   "metadata": {},
   "outputs": [
    {
     "name": "stdout",
     "output_type": "stream",
     "text": [
      "STDIN> 12 34 56\n"
     ]
    },
    {
     "ename": "LoadError",
     "evalue": "\u001b[91mMethodError: Cannot `convert` an object of type Int64 to an object of type String\nThis may have arisen from a call to the constructor String(...),\nsince type constructors fall back to convert methods.\u001b[39m",
     "output_type": "error",
     "traceback": [
      "\u001b[91mMethodError: Cannot `convert` an object of type Int64 to an object of type String\nThis may have arisen from a call to the constructor String(...),\nsince type constructors fall back to convert methods.\u001b[39m",
      "",
      "Stacktrace:",
      " [1] \u001b[1mString\u001b[22m\u001b[22m\u001b[1m(\u001b[22m\u001b[22m::Int64\u001b[1m)\u001b[22m\u001b[22m at \u001b[1m./sysimg.jl:77\u001b[22m\u001b[22m",
      " [2] \u001b[1minclude_string\u001b[22m\u001b[22m\u001b[1m(\u001b[22m\u001b[22m::String, ::String\u001b[1m)\u001b[22m\u001b[22m at \u001b[1m./loading.jl:522\u001b[22m\u001b[22m"
     ]
    }
   ],
   "source": [
    "N = parse.(Int,split(readline()))\n",
    "N./ 2\n",
    "String(N[2])"
   ]
  },
  {
   "cell_type": "code",
   "execution_count": 61,
   "metadata": {},
   "outputs": [
    {
     "ename": "LoadError",
     "evalue": "\u001b[91mMethodError: no method matching iseven(::Float64)\u001b[0m\nClosest candidates are:\n  iseven(\u001b[91m::Integer\u001b[39m) at int.jl:68\u001b[39m",
     "output_type": "error",
     "traceback": [
      "\u001b[91mMethodError: no method matching iseven(::Float64)\u001b[0m\nClosest candidates are:\n  iseven(\u001b[91m::Integer\u001b[39m) at int.jl:68\u001b[39m",
      "",
      "Stacktrace:",
      " [1] \u001b[1mbroadcast_t\u001b[22m\u001b[22m\u001b[1m(\u001b[22m\u001b[22m::Function, ::Type{Any}, ::Tuple{Base.OneTo{Int64}}, ::CartesianRange{CartesianIndex{1}}, ::Array{Float64,1}\u001b[1m)\u001b[22m\u001b[22m at \u001b[1m./broadcast.jl:258\u001b[22m\u001b[22m",
      " [2] \u001b[1mbroadcast_c\u001b[22m\u001b[22m at \u001b[1m./broadcast.jl:321\u001b[22m\u001b[22m [inlined]",
      " [3] \u001b[1mbroadcast\u001b[22m\u001b[22m\u001b[1m(\u001b[22m\u001b[22m::Function, ::Array{Float64,1}\u001b[1m)\u001b[22m\u001b[22m at \u001b[1m./broadcast.jl:455\u001b[22m\u001b[22m",
      " [4] \u001b[1minclude_string\u001b[22m\u001b[22m\u001b[1m(\u001b[22m\u001b[22m::String, ::String\u001b[1m)\u001b[22m\u001b[22m at \u001b[1m./loading.jl:522\u001b[22m\u001b[22m"
     ]
    }
   ],
   "source": [
    "all(iseven.([1,1.5]))"
   ]
  },
  {
   "cell_type": "code",
   "execution_count": 77,
   "metadata": {},
   "outputs": [
    {
     "ename": "LoadError",
     "evalue": "\u001b[91mInexactError()\u001b[39m",
     "output_type": "error",
     "traceback": [
      "\u001b[91mInexactError()\u001b[39m",
      "",
      "Stacktrace:",
      " [1] \u001b[1mconvert\u001b[22m\u001b[22m\u001b[1m(\u001b[22m\u001b[22m::Type{Int64}, ::Float64\u001b[1m)\u001b[22m\u001b[22m at \u001b[1m./float.jl:679\u001b[22m\u001b[22m",
      " [2] \u001b[1mmacro expansion\u001b[22m\u001b[22m at \u001b[1m./broadcast.jl:155\u001b[22m\u001b[22m [inlined]",
      " [3] \u001b[1mmacro expansion\u001b[22m\u001b[22m at \u001b[1m./simdloop.jl:73\u001b[22m\u001b[22m [inlined]",
      " [4] \u001b[1mmacro expansion\u001b[22m\u001b[22m at \u001b[1m./broadcast.jl:149\u001b[22m\u001b[22m [inlined]",
      " [5] \u001b[1m_broadcast!\u001b[22m\u001b[22m\u001b[1m(\u001b[22m\u001b[22m::##81#82, ::Array{Int64,1}, ::Tuple{Tuple{Bool}}, ::Tuple{Tuple{Int64}}, ::Array{Int64,1}, ::Tuple{}, ::Type{Val{0}}, ::CartesianRange{CartesianIndex{1}}\u001b[1m)\u001b[22m\u001b[22m at \u001b[1m./broadcast.jl:141\u001b[22m\u001b[22m",
      " [6] \u001b[1mbroadcast_t\u001b[22m\u001b[22m\u001b[1m(\u001b[22m\u001b[22m::Function, ::Type{T} where T, ::Tuple{Base.OneTo{Int64}}, ::CartesianRange{CartesianIndex{1}}, ::Array{Int64,1}\u001b[1m)\u001b[22m\u001b[22m at \u001b[1m./broadcast.jl:270\u001b[22m\u001b[22m",
      " [7] \u001b[1mbroadcast_c\u001b[22m\u001b[22m at \u001b[1m./broadcast.jl:316\u001b[22m\u001b[22m [inlined]",
      " [8] \u001b[1mbroadcast\u001b[22m\u001b[22m\u001b[1m(\u001b[22m\u001b[22m::Function, ::Array{Int64,1}\u001b[1m)\u001b[22m\u001b[22m at \u001b[1m./broadcast.jl:455\u001b[22m\u001b[22m",
      " [9] \u001b[1minclude_string\u001b[22m\u001b[22m\u001b[1m(\u001b[22m\u001b[22m::String, ::String\u001b[1m)\u001b[22m\u001b[22m at \u001b[1m./loading.jl:522\u001b[22m\u001b[22m"
     ]
    }
   ],
   "source": [
    "Int64.([2 ;5; 4;]./2)"
   ]
  },
  {
   "cell_type": "code",
   "execution_count": 87,
   "metadata": {},
   "outputs": [
    {
     "data": {
      "text/plain": [
       "'4': ASCII/Unicode U+0034 (category Nd: Number, decimal digit)"
      ]
     },
     "execution_count": 87,
     "metadata": {},
     "output_type": "execute_result"
    }
   ],
   "source": [
    "\"123456\"[4]"
   ]
  },
  {
   "cell_type": "code",
   "execution_count": 95,
   "metadata": {},
   "outputs": [
    {
     "name": "stdout",
     "output_type": "stream",
     "text": [
      "STDIN> 30\n",
      "STDIN> 40\n",
      "STDIN> 50\n",
      "STDIN> 43\n",
      "0\n"
     ]
    }
   ],
   "source": [
    "function main()\n",
    "    a = parse(readline())\n",
    "    b = parse(readline())\n",
    "    c = parse(readline())\n",
    "    x = parse(readline())\n",
    "    count = 0\n",
    "    for i in 0:a\n",
    "        for j in 0:b\n",
    "            for k in 0:c\n",
    "                s = 500i + 100j + 50k\n",
    "                if s == x \n",
    "                    count += 1\n",
    "                end\n",
    "            end\n",
    "        end\n",
    "    end\n",
    "    println(\"$count\")\n",
    "end\n",
    "\n",
    "main()"
   ]
  },
  {
   "cell_type": "code",
   "execution_count": 91,
   "metadata": {},
   "outputs": [
    {
     "name": "stdout",
     "output_type": "stream",
     "text": [
      "STDIN> 30\n"
     ]
    },
    {
     "data": {
      "text/plain": [
       "\"30\""
      ]
     },
     "execution_count": 91,
     "metadata": {},
     "output_type": "execute_result"
    }
   ],
   "source": [
    "a = readline()"
   ]
  },
  {
   "cell_type": "code",
   "execution_count": 30,
   "metadata": {},
   "outputs": [
    {
     "name": "stdout",
     "output_type": "stream",
     "text": [
      "STDIN> 100 4 16\n",
      "4554\n"
     ]
    }
   ],
   "source": [
    "function main()\n",
    "    #X = parse.(Int,split(readline()))\n",
    "    #N = X[1]\n",
    "    #A = X[2]\n",
    "    #B = X[3]\n",
    "    (N, A, B) = map(x -> parse(Int, x), split(readline()))\n",
    "    cnt = 0\n",
    "    kotae = 0\n",
    "    for i in 1:N\n",
    "        ketasum = 0\n",
    "        imoji = \"$i\" \n",
    "        for j in 1:length(imoji)\n",
    "            #iの各桁を数値へ変換して足す\n",
    "            ketasum = ketasum + parse(Int,imoji[j])\n",
    "        end\n",
    "        if A <= ketasum <= B\n",
    "            kotae = kotae + i\n",
    "        end\n",
    "    end\n",
    "    println(\"$kotae\")\n",
    "end\n",
    "\n",
    "main()"
   ]
  },
  {
   "cell_type": "code",
   "execution_count": 82,
   "metadata": {},
   "outputs": [
    {
     "name": "stdout",
     "output_type": "stream",
     "text": [
      "STDIN> 4\n",
      "STDIN> 20 18 2 18\n",
      "18\n"
     ]
    }
   ],
   "source": [
    "function main()\n",
    "    N = parse(Int,readline())\n",
    "    a = map(x -> parse(Int,x), split(readline()))\n",
    "    sort!(a,rev = true)\n",
    "    Alice = 0\n",
    "    Bob = 0\n",
    "    for i in 1:N\n",
    "        if isodd(i)\n",
    "            Alice += a[i]\n",
    "        else\n",
    "            Bob += a[i]\n",
    "        end\n",
    "    end\n",
    "    \n",
    "    println(\"$(Alice - Bob)\")\n",
    "end\n",
    "\n",
    "main()"
   ]
  },
  {
   "cell_type": "code",
   "execution_count": 18,
   "metadata": {},
   "outputs": [
    {
     "ename": "LoadError",
     "evalue": "\u001b[91mMethodError: no method matching getindex(::Int64, ::UnitRange{Int64})\u001b[39m",
     "output_type": "error",
     "traceback": [
      "\u001b[91mMethodError: no method matching getindex(::Int64, ::UnitRange{Int64})\u001b[39m",
      "",
      "Stacktrace:",
      " [1] \u001b[1minclude_string\u001b[22m\u001b[22m\u001b[1m(\u001b[22m\u001b[22m::String, ::String\u001b[1m)\u001b[22m\u001b[22m at \u001b[1m./loading.jl:522\u001b[22m\u001b[22m"
     ]
    }
   ],
   "source": [
    "length()"
   ]
  },
  {
   "cell_type": "code",
   "execution_count": 21,
   "metadata": {},
   "outputs": [
    {
     "data": {
      "text/plain": [
       "1:1"
      ]
     },
     "execution_count": 21,
     "metadata": {},
     "output_type": "execute_result"
    }
   ],
   "source": [
    "1:1"
   ]
  },
  {
   "cell_type": "code",
   "execution_count": 90,
   "metadata": {},
   "outputs": [
    {
     "data": {
      "text/plain": [
       "Set([4, 5])"
      ]
     },
     "execution_count": 90,
     "metadata": {},
     "output_type": "execute_result"
    }
   ],
   "source": [
    "s = Set{Int}()\n",
    "push!(s,4)\n",
    "push!(s,5)"
   ]
  },
  {
   "cell_type": "code",
   "execution_count": 93,
   "metadata": {},
   "outputs": [
    {
     "name": "stdout",
     "output_type": "stream",
     "text": [
      "STDIN> 7\n",
      "STDIN> 50\n",
      "STDIN> 30\n",
      "STDIN> 50\n",
      "STDIN> 100\n",
      "STDIN> 50\n",
      "STDIN> 80\n",
      "STDIN> 30\n",
      "4\n"
     ]
    }
   ],
   "source": [
    "function main()\n",
    "    N = parse(Int,readline())\n",
    "    a = Set{Int}()\n",
    "    for i in 1:N\n",
    "        push!(a,parse(Int,readline()))\n",
    "    end\n",
    "    \n",
    "    println(\"$(length(a))\")\n",
    "end\n",
    "\n",
    "main()"
   ]
  },
  {
   "cell_type": "code",
   "execution_count": 94,
   "metadata": {},
   "outputs": [
    {
     "name": "stdout",
     "output_type": "stream",
     "text": [
      "STDIN> 2\n",
      "STDIN> 1\n",
      "STDIN> 1\n",
      "1\n"
     ]
    }
   ],
   "source": [
    "function main()\n",
    "    N = parse(Int, readline())\n",
    "    d = zeros(Int, (N,))\n",
    "    for i = 1:N \n",
    "        d[i] = parse(Int, readline())\n",
    "    end\n",
    "\n",
    "    num = zeros(Int, (100,))\n",
    "    for i = 1:N \n",
    "        num[d[i]] += 1\n",
    "    end\n",
    "\n",
    "    res = 0\n",
    "    for i = 1:100\n",
    "        if num[i] > 0\n",
    "            res += 1\n",
    "        end\n",
    "    end\n",
    "\n",
    "    println(res)\n",
    "end\n",
    "\n",
    "main()"
   ]
  },
  {
   "cell_type": "code",
   "execution_count": 110,
   "metadata": {},
   "outputs": [
    {
     "name": "stdout",
     "output_type": "stream",
     "text": [
      "STDIN> 1000 1234000\n",
      "26 0 974\n",
      "22 9 969\n",
      "18 18 964\n",
      "14 27 959\n",
      "10 36 954\n",
      "6 45 949\n",
      "2 54 944\n",
      "2 54 944\n"
     ]
    }
   ],
   "source": [
    "function main()\n",
    "    (N,Y) = map(x -> parse(Int,x),split(readline()))    \n",
    "    noguchi = -1\n",
    "    higuchi = -1\n",
    "    fukuzawa = -1\n",
    "    for numfuk in N:-1:0\n",
    "        for numhig in N-numfuk:-1:0\n",
    "            numnog = N - numfuk - numhig\n",
    "            otoshi = 10000numfuk + 5000numhig + 1000numnog\n",
    "            if Y == otoshi\n",
    "                noguchi = numnog\n",
    "                higuchi = numhig\n",
    "                fukuzawa = numfuk\n",
    "                #println(\"$fukuzawa $higuchi $noguchi\")\n",
    "            end\n",
    "        end\n",
    "    end\n",
    "\n",
    "        println(\"$fukuzawa $higuchi $noguchi\")\n",
    "end\n",
    "\n",
    "main()"
   ]
  },
  {
   "cell_type": "code",
   "execution_count": 38,
   "metadata": {},
   "outputs": [
    {
     "name": "stdout",
     "output_type": "stream",
     "text": [
      "STDIN> dreamdreameraserase\n",
      "NO\n"
     ]
    }
   ],
   "source": [
    "function main()\n",
    "    divide = [\"dream\",\"dreamer\",\"erase\",\"eraser\"]\n",
    "    S = chomp(readline())\n",
    "    Slen = length(S)\n",
    "    ans = true\n",
    "    while Slen > 0\n",
    "        is_contains = false\n",
    "        for i in 1:4\n",
    "            if length(divide[i]) <= Slen\n",
    "                if S[Slen - length(divide[i]) + 1: Slen] == divide[i]\n",
    "                    is_contains = true\n",
    "                    Slen -= length(divide[i])\n",
    "                end\n",
    "            end\n",
    "        end\n",
    "        \n",
    "        if !is_contains\n",
    "            ans = false\n",
    "            break\n",
    "        end\n",
    "        \n",
    "    end\n",
    "    \n",
    "    if ans\n",
    "        println(\"YES\")\n",
    "    else\n",
    "        println(\"NO\")\n",
    "    end\n",
    "end\n",
    "\n",
    "main()"
   ]
  },
  {
   "cell_type": "code",
   "execution_count": 16,
   "metadata": {},
   "outputs": [
    {
     "data": {
      "text/plain": [
       "true"
      ]
     },
     "execution_count": 16,
     "metadata": {},
     "output_type": "execute_result"
    }
   ],
   "source": [
    "i = 2\n",
    "a = \"abcd\"\n",
    "a[i:(i+1)]\n",
    "\"abc\" == a[1:3]"
   ]
  },
  {
   "cell_type": "code",
   "execution_count": 17,
   "metadata": {},
   "outputs": [
    {
     "data": {
      "text/plain": [
       "\"dream\""
      ]
     },
     "execution_count": 17,
     "metadata": {},
     "output_type": "execute_result"
    }
   ],
   "source": [
    "T =\"\"\n",
    "T = T * \"dream\""
   ]
  },
  {
   "cell_type": "code",
   "execution_count": 19,
   "metadata": {},
   "outputs": [
    {
     "name": "stdout",
     "output_type": "stream",
     "text": [
      "abc\n"
     ]
    }
   ],
   "source": [
    "a = \"abc\"\n",
    "println(a)"
   ]
  },
  {
   "cell_type": "code",
   "execution_count": 23,
   "metadata": {},
   "outputs": [
    {
     "name": "stdout",
     "output_type": "stream",
     "text": [
      "STDIN> dream\n",
      "YES\n"
     ]
    }
   ],
   "source": [
    "function main()\n",
    "    divide = [\"dream\", \"dreamer\", \"erase\", \"eraser\"]\n",
    "\n",
    "    S = chomp(readline())\n",
    "\n",
    "    ans = true\n",
    "    lenS = length(S)\n",
    "    while lenS > 0\n",
    "        is_contains = false\n",
    "        for i = 1:4\n",
    "            if length(divide[i]) <= lenS\n",
    "                if S[lenS - length(divide[i]) + 1:lenS] == divide[i]\n",
    "                    is_contains = true\n",
    "                    lenS -= length(divide[i])\n",
    "                end\n",
    "            end\n",
    "        end\n",
    "\n",
    "        if !is_contains\n",
    "            ans = false\n",
    "            break\n",
    "        end\n",
    "    end\n",
    "\n",
    "    if ans\n",
    "        println(\"YES\")\n",
    "    else\n",
    "        println(\"NO\")\n",
    "    end\n",
    "end\n",
    "\n",
    "main()"
   ]
  },
  {
   "cell_type": "code",
   "execution_count": 46,
   "metadata": {},
   "outputs": [
    {
     "name": "stdout",
     "output_type": "stream",
     "text": [
      "STDIN> 2\n",
      "STDIN> 3 1 2\n",
      "STDIN> 6 1 1\n",
      "YES\n"
     ]
    }
   ],
   "source": [
    "function main()\n",
    "    N = parse(Int,readline())\n",
    "    t = zeros(Int , N +1)\n",
    "    x = zeros(Int , N +1)\n",
    "    y = zeros(Int , N +1)\n",
    "\n",
    "    for i in 2:N+1\n",
    "        (t[i] ,x[i] ,y[i]) = map(x -> parse(Int,x) , split(readline()))\n",
    "    end\n",
    "    \n",
    "    can = true\n",
    "    for i in 1:N\n",
    "        dt = t[i + 1] - t[i]\n",
    "        dist = abs(x[i + 1] - x[i]) + abs(y[i+ 1] - y[i])\n",
    "        if dt < dist\n",
    "            can = false\n",
    "        end\n",
    "        \n",
    "        if dist%2 != dt%2\n",
    "            can =false\n",
    "        end\n",
    "        \n",
    "    end\n",
    "    \n",
    "    if can\n",
    "        println(\"Yes\")\n",
    "    else\n",
    "        println(\"No\")\n",
    "    end\n",
    "    \n",
    "end\n",
    "\n",
    "main()"
   ]
  },
  {
   "cell_type": "code",
   "execution_count": 9,
   "metadata": {},
   "outputs": [
    {
     "name": "stdout",
     "output_type": "stream",
     "text": [
      "STDIN> 9 9 6\n",
      "YES\n"
     ]
    }
   ],
   "source": [
    "function main()\n",
    "    (r,g,b) = split(readline())\n",
    "    num = parse(Int,r * g * b)\n",
    "    \n",
    "    if num % 4 == 0\n",
    "        println(\"YES\")\n",
    "    else\n",
    "        println(\"NO\")\n",
    "    end\n",
    "        \n",
    "end\n",
    "\n",
    "main()"
   ]
  },
  {
   "cell_type": "code",
   "execution_count": 4,
   "metadata": {},
   "outputs": [
    {
     "name": "stdout",
     "output_type": "stream",
     "text": [
      "STDIN> 1 2 3\n"
     ]
    },
    {
     "data": {
      "text/plain": [
       "123"
      ]
     },
     "execution_count": 4,
     "metadata": {},
     "output_type": "execute_result"
    }
   ],
   "source": [
    "(r,g,b) = split(readline())\n",
    "parse(Int,r * g * b)"
   ]
  },
  {
   "cell_type": "code",
   "execution_count": null,
   "metadata": {
    "collapsed": true
   },
   "outputs": [],
   "source": []
  }
 ],
 "metadata": {
  "kernelspec": {
   "display_name": "Julia 0.6.2",
   "language": "julia",
   "name": "julia-0.6"
  },
  "language_info": {
   "file_extension": ".jl",
   "mimetype": "application/julia",
   "name": "julia",
   "version": "0.6.2"
  }
 },
 "nbformat": 4,
 "nbformat_minor": 2
}
