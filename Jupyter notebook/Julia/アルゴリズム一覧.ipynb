{
 "cells": [
  {
   "cell_type": "markdown",
   "metadata": {
    "collapsed": true
   },
   "source": [
    "# アルゴリズムとデータ構造\n",
    "## ２章 アルゴリズムと計算量　"
   ]
  },
  {
   "cell_type": "code",
   "execution_count": null,
   "metadata": {
    "collapsed": true
   },
   "outputs": [],
   "source": []
  },
  {
   "cell_type": "markdown",
   "metadata": {},
   "source": [
    "## ３章 初等的整列"
   ]
  },
  {
   "cell_type": "markdown",
   "metadata": {},
   "source": [
    "### 大事なこと\n",
    "* 計算量と安定性  \n",
    "* データの列を保持する１つの配列以外にメモリが必要にならないか  \n",
    "* 入力データの特徴が計算量に影響しないか  "
   ]
  },
  {
   "cell_type": "markdown",
   "metadata": {},
   "source": [
    "### 挿入ソート  \n",
    "* 安定なソート  \n",
    "* 入力データが昇順でO(N)、降順でO(N^2)"
   ]
  },
  {
   "cell_type": "code",
   "execution_count": 1,
   "metadata": {},
   "outputs": [
    {
     "data": {
      "text/plain": [
       "insertionSort! (generic function with 1 method)"
      ]
     },
     "execution_count": 1,
     "metadata": {},
     "output_type": "execute_result"
    }
   ],
   "source": [
    "insertionSort(A,N::Int) = insertionSort!(copy(A),N::Int)\n",
    "\n",
    "function insertionSort!(A,N::Int)\n",
    "    for i　in 2:N\n",
    "        v = A[i]\n",
    "        j = i - 1\n",
    "        while j >= 1 && A[j] > v\n",
    "            A[j + 1] = A[j]\n",
    "            j　= j - 1\n",
    "        end\n",
    "        A[j + 1] = v\n",
    "    end\n",
    "    return A\n",
    "end"
   ]
  },
  {
   "cell_type": "markdown",
   "metadata": {},
   "source": [
    "### 実行時間"
   ]
  },
  {
   "cell_type": "code",
   "execution_count": 76,
   "metadata": {},
   "outputs": [
    {
     "name": "stdout",
     "output_type": "stream",
     "text": [
      "乱数\n",
      "  2.897841 seconds (7 allocations: 781.500 KiB)\n",
      "  0.007648 seconds (7 allocations: 781.563 KiB)\n",
      "降順\n",
      "  5.653335 seconds (7 allocations: 781.500 KiB)\n",
      "  0.001744 seconds (7 allocations: 781.563 KiB)\n",
      "昇順\n",
      "  0.000897 seconds (7 allocations: 781.500 KiB)\n",
      "  0.002235 seconds (7 allocations: 781.563 KiB)\n"
     ]
    },
    {
     "data": {
      "text/plain": [
       "100000-element Array{Float64,1}:\n",
       " 1.22624e-5 \n",
       " 1.28834e-5 \n",
       " 1.80426e-5 \n",
       " 2.255e-5   \n",
       " 4.14015e-5 \n",
       " 5.11361e-5 \n",
       " 0.000124259\n",
       " 0.000134785\n",
       " 0.000136513\n",
       " 0.000151114\n",
       " 0.000151554\n",
       " 0.000154278\n",
       " 0.000155695\n",
       " ⋮          \n",
       " 0.999794   \n",
       " 0.9998     \n",
       " 0.999801   \n",
       " 0.999831   \n",
       " 0.999855   \n",
       " 0.99987    \n",
       " 0.999882   \n",
       " 0.999904   \n",
       " 0.999905   \n",
       " 0.999935   \n",
       " 0.999938   \n",
       " 0.999979   "
      ]
     },
     "execution_count": 76,
     "metadata": {},
     "output_type": "execute_result"
    }
   ],
   "source": [
    "a = rand(100000)\n",
    "println(\"乱数\")\n",
    "@time insertionSort(a,length(a))　#挿入ソートは降順でO(N^2)\n",
    "@time sort(a)　#クイックソート\n",
    "\n",
    "a = sort(a,rev = true) \n",
    "println(\"降順\")\n",
    "@time insertionSort(a,length(a))　#挿入ソートは降順でO(N^2)\n",
    "@time sort(a)\n",
    "\n",
    "a = sort(a,rev=false)\n",
    "println(\"昇順\")\n",
    "@time insertionSort(a,length(a)) #挿入ソートは昇順でO(N)\n",
    "@time sort(a)\n"
   ]
  },
  {
   "cell_type": "markdown",
   "metadata": {},
   "source": [
    "### バブルソート  \n",
    "* 安定である（隣同士を比較する演算に'='を入れると不安定）\n",
    "* 最悪で計算量はO(N^2)\n",
    "* バブルソートの交換回数は反転数または転倒数と呼ばれるもので、列の乱れの具合を表す数値"
   ]
  },
  {
   "cell_type": "code",
   "execution_count": 53,
   "metadata": {},
   "outputs": [
    {
     "data": {
      "text/plain": [
       "bubbleSort! (generic function with 1 method)"
      ]
     },
     "execution_count": 53,
     "metadata": {},
     "output_type": "execute_result"
    }
   ],
   "source": [
    "bubbleSort(A,N::Int) = bubbleSort!(copy(A),N::Int)\n",
    "\n",
    "function bubbleSort!(A,N::Int)\n",
    "    swapped = true\n",
    "    #cnt = 0\n",
    "    while swapped\n",
    "        swapped = false\n",
    "        for j in N:-1:2\n",
    "            if A[j] < A[j - 1]\n",
    "                A[j],A[j - 1] = A[j - 1],A[j]\n",
    "                swapped = true\n",
    "                #cnt += 1\n",
    "            end\n",
    "        end\n",
    "    end\n",
    "    #println(\"交換数は $cnt\")\n",
    "    return A\n",
    "end"
   ]
  },
  {
   "cell_type": "markdown",
   "metadata": {},
   "source": [
    "### 雑テスト"
   ]
  },
  {
   "cell_type": "code",
   "execution_count": 54,
   "metadata": {},
   "outputs": [
    {
     "name": "stdout",
     "output_type": "stream",
     "text": [
      "乱数\n",
      "Correct!\n"
     ]
    }
   ],
   "source": [
    "a = rand(10000)\n",
    "println(\"乱数\")\n",
    "if bubbleSort(a,length(a)) == sort(a)　#乱数で一致するか\n",
    "    println(\"Correct!\")\n",
    "end"
   ]
  },
  {
   "cell_type": "markdown",
   "metadata": {},
   "source": [
    "### 実行時間"
   ]
  },
  {
   "cell_type": "code",
   "execution_count": 56,
   "metadata": {},
   "outputs": [
    {
     "name": "stdout",
     "output_type": "stream",
     "text": [
      "乱数\n",
      " 32.996232 seconds (7 allocations: 781.500 KiB)\n",
      "  0.009605 seconds (7 allocations: 781.563 KiB)\n",
      "降順\n",
      " 21.439269 seconds (7 allocations: 781.500 KiB)\n",
      "  0.003370 seconds (7 allocations: 781.563 KiB)\n",
      "昇順\n",
      "  0.000816 seconds (7 allocations: 781.500 KiB)\n",
      "  0.002828 seconds (7 allocations: 781.563 KiB)\n"
     ]
    },
    {
     "data": {
      "text/plain": [
       "100000-element Array{Float64,1}:\n",
       " 4.20823e-6 \n",
       " 9.08366e-6 \n",
       " 1.20375e-5 \n",
       " 1.50365e-5 \n",
       " 2.77269e-5 \n",
       " 3.57456e-5 \n",
       " 4.34537e-5 \n",
       " 8.55661e-5 \n",
       " 8.56972e-5 \n",
       " 8.65764e-5 \n",
       " 9.15915e-5 \n",
       " 0.000100989\n",
       " 0.000122744\n",
       " ⋮          \n",
       " 0.999865   \n",
       " 0.999869   \n",
       " 0.99988    \n",
       " 0.999899   \n",
       " 0.999916   \n",
       " 0.99992    \n",
       " 0.99993    \n",
       " 0.999943   \n",
       " 0.999967   \n",
       " 0.999974   \n",
       " 0.999992   \n",
       " 0.999995   "
      ]
     },
     "execution_count": 56,
     "metadata": {},
     "output_type": "execute_result"
    }
   ],
   "source": [
    "a = rand(100000)\n",
    "println(\"乱数\")\n",
    "@time bubbleSort(a,length(a))　\n",
    "@time sort(a)　#クイックソート\n",
    "\n",
    "a = sort(a,rev = true) \n",
    "println(\"降順\")\n",
    "@time bubbleSort(a,length(a))　\n",
    "@time sort(a)\n",
    "\n",
    "a = sort(a,rev=false)\n",
    "println(\"昇順\")\n",
    "@time bubbleSort(a,length(a)) \n",
    "@time sort(a)"
   ]
  },
  {
   "cell_type": "markdown",
   "metadata": {},
   "source": [
    "### 選択ソート\n",
    "* 安定でない（離れた要素を比較するから。例として[3,5,3,1]）\n",
    "* 最悪で計算量はO(N^2)"
   ]
  },
  {
   "cell_type": "code",
   "execution_count": 5,
   "metadata": {},
   "outputs": [
    {
     "data": {
      "text/plain": [
       "selectionSort! (generic function with 1 method)"
      ]
     },
     "execution_count": 5,
     "metadata": {},
     "output_type": "execute_result"
    }
   ],
   "source": [
    "selectionSort(A,N::Int) = selectionSort!(copy(A),N::Int)\n",
    "\n",
    "function selectionSort!(A,N::Int)\n",
    "    for i in 1:N\n",
    "        minj = i\n",
    "        for j in i:N\n",
    "            if A[j] < A[minj]\n",
    "                minj = j\n",
    "            end\n",
    "        end\n",
    "        A[i],A[minj] = A[minj],A[i]\n",
    "    end\n",
    "    return A\n",
    "    \n",
    "end"
   ]
  },
  {
   "cell_type": "markdown",
   "metadata": {},
   "source": [
    "### 雑テスト"
   ]
  },
  {
   "cell_type": "code",
   "execution_count": 7,
   "metadata": {},
   "outputs": [
    {
     "name": "stdout",
     "output_type": "stream",
     "text": [
      "乱数\n",
      "Correct!\n"
     ]
    }
   ],
   "source": [
    "a = rand(10000)\n",
    "println(\"乱数\")\n",
    "if selectionSort(a,length(a)) == sort(a)　#乱数で一致するか\n",
    "    println(\"Correct!\")\n",
    "end"
   ]
  },
  {
   "cell_type": "code",
   "execution_count": 8,
   "metadata": {},
   "outputs": [
    {
     "name": "stdout",
     "output_type": "stream",
     "text": [
      "乱数\n",
      "  5.846764 seconds (7 allocations: 781.500 KiB)\n",
      "  0.008307 seconds (7 allocations: 781.563 KiB)\n",
      "降順\n",
      "  8.079422 seconds (7 allocations: 781.500 KiB)\n",
      "  0.002314 seconds (7 allocations: 781.563 KiB)\n",
      "昇順\n",
      "  5.823190 seconds (7 allocations: 781.500 KiB)\n",
      "  0.002185 seconds (7 allocations: 781.563 KiB)\n"
     ]
    },
    {
     "data": {
      "text/plain": [
       "100000-element Array{Float64,1}:\n",
       " 9.08587e-6 \n",
       " 1.75632e-5 \n",
       " 3.95749e-5 \n",
       " 3.98609e-5 \n",
       " 5.40415e-5 \n",
       " 7.04447e-5 \n",
       " 7.87307e-5 \n",
       " 9.29521e-5 \n",
       " 9.62103e-5 \n",
       " 9.64705e-5 \n",
       " 0.000101278\n",
       " 0.000131415\n",
       " 0.000145379\n",
       " ⋮          \n",
       " 0.999837   \n",
       " 0.999842   \n",
       " 0.99985    \n",
       " 0.999895   \n",
       " 0.999906   \n",
       " 0.999954   \n",
       " 0.999958   \n",
       " 0.999961   \n",
       " 0.99997    \n",
       " 0.999978   \n",
       " 0.999984   \n",
       " 0.999991   "
      ]
     },
     "execution_count": 8,
     "metadata": {},
     "output_type": "execute_result"
    }
   ],
   "source": [
    "a = rand(100000)\n",
    "println(\"乱数\")\n",
    "@time selectionSort(a,length(a))　\n",
    "@time sort(a)　#クイックソート\n",
    "\n",
    "a = sort(a,rev = true) \n",
    "println(\"降順\")\n",
    "@time selectionSort(a,length(a))　\n",
    "@time sort(a)\n",
    "\n",
    "a = sort(a,rev=false)\n",
    "println(\"昇順\")\n",
    "@time selectionSort(a,length(a)) \n",
    "@time sort(a)"
   ]
  },
  {
   "cell_type": "markdown",
   "metadata": {},
   "source": [
    "## ４章 データ構造"
   ]
  },
  {
   "cell_type": "code",
   "execution_count": null,
   "metadata": {
    "collapsed": true
   },
   "outputs": [],
   "source": []
  }
 ],
 "metadata": {
  "kernelspec": {
   "display_name": "Julia 0.6.2",
   "language": "julia",
   "name": "julia-0.6"
  },
  "language_info": {
   "file_extension": ".jl",
   "mimetype": "application/julia",
   "name": "julia",
   "version": "0.6.2"
  }
 },
 "nbformat": 4,
 "nbformat_minor": 2
}
